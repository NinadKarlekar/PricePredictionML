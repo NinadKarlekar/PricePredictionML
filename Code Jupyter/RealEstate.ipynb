{
 "cells": [
  {
   "cell_type": "markdown",
   "id": "49cc9611",
   "metadata": {},
   "source": [
    "# Real Estate Price Predictor"
   ]
  },
  {
   "cell_type": "code",
   "execution_count": null,
   "id": "fe06094d",
   "metadata": {},
   "outputs": [
    {
     "ename": "",
     "evalue": "",
     "output_type": "error",
     "traceback": [
      "\u001b[1;31mRunning cells with 'f:\\GitHub\\PricePredictionML\\venv\\python.exe' requires the ipykernel package.\n",
      "\u001b[1;31mRun the following command to install 'ipykernel' into the Python environment. \n",
      "\u001b[1;31mCommand: 'conda install -p f:\\GitHub\\PricePredictionML\\venv ipykernel --update-deps --force-reinstall'"
     ]
    }
   ],
   "source": [
    "import pandas as pd\n",
    "import numpy as np"
   ]
  },
  {
   "cell_type": "code",
   "execution_count": null,
   "id": "4b9a0e55",
   "metadata": {},
   "outputs": [
    {
     "ename": "",
     "evalue": "",
     "output_type": "error",
     "traceback": [
      "\u001b[1;31mRunning cells with 'f:\\GitHub\\PricePredictionML\\venv\\python.exe' requires the ipykernel package.\n",
      "\u001b[1;31mRun the following command to install 'ipykernel' into the Python environment. \n",
      "\u001b[1;31mCommand: 'conda install -p f:\\GitHub\\PricePredictionML\\venv ipykernel --update-deps --force-reinstall'"
     ]
    }
   ],
   "source": [
    "# shows images here itself\n",
    "%matplotlib inline\n",
    "import matplotlib.pyplot as plt"
   ]
  },
  {
   "cell_type": "markdown",
   "id": "bffe4139",
   "metadata": {},
   "source": [
    "## Loading Dataset"
   ]
  },
  {
   "cell_type": "code",
   "execution_count": null,
   "id": "0d2eb950",
   "metadata": {},
   "outputs": [
    {
     "ename": "",
     "evalue": "",
     "output_type": "error",
     "traceback": [
      "\u001b[1;31mRunning cells with 'f:\\GitHub\\PricePredictionML\\venv\\python.exe' requires the ipykernel package.\n",
      "\u001b[1;31mRun the following command to install 'ipykernel' into the Python environment. \n",
      "\u001b[1;31mCommand: 'conda install -p f:\\GitHub\\PricePredictionML\\venv ipykernel --update-deps --force-reinstall'"
     ]
    }
   ],
   "source": [
    "housing = pd.read_csv(\"F:\\GitHub\\PricePredictionML\\Dataset\\data.csv\")"
   ]
  },
  {
   "cell_type": "markdown",
   "id": "d88c4bb3",
   "metadata": {},
   "source": [
    "## Checking Description of dataset"
   ]
  },
  {
   "cell_type": "code",
   "execution_count": null,
   "id": "75644a5b",
   "metadata": {},
   "outputs": [
    {
     "ename": "",
     "evalue": "",
     "output_type": "error",
     "traceback": [
      "\u001b[1;31mRunning cells with 'f:\\GitHub\\PricePredictionML\\venv\\python.exe' requires the ipykernel package.\n",
      "\u001b[1;31mRun the following command to install 'ipykernel' into the Python environment. \n",
      "\u001b[1;31mCommand: 'conda install -p f:\\GitHub\\PricePredictionML\\venv ipykernel --update-deps --force-reinstall'"
     ]
    }
   ],
   "source": [
    "print(housing)"
   ]
  },
  {
   "cell_type": "code",
   "execution_count": null,
   "id": "b62c935d",
   "metadata": {},
   "outputs": [
    {
     "ename": "",
     "evalue": "",
     "output_type": "error",
     "traceback": [
      "\u001b[1;31mRunning cells with 'f:\\GitHub\\PricePredictionML\\venv\\python.exe' requires the ipykernel package.\n",
      "\u001b[1;31mRun the following command to install 'ipykernel' into the Python environment. \n",
      "\u001b[1;31mCommand: 'conda install -p f:\\GitHub\\PricePredictionML\\venv ipykernel --update-deps --force-reinstall'"
     ]
    }
   ],
   "source": [
    "# Shows top 5 values from data with coloumn name\n",
    "housing.head()"
   ]
  },
  {
   "cell_type": "code",
   "execution_count": null,
   "id": "90ae1dfd",
   "metadata": {},
   "outputs": [
    {
     "ename": "",
     "evalue": "",
     "output_type": "error",
     "traceback": [
      "\u001b[1;31mRunning cells with 'f:\\GitHub\\PricePredictionML\\venv\\python.exe' requires the ipykernel package.\n",
      "\u001b[1;31mRun the following command to install 'ipykernel' into the Python environment. \n",
      "\u001b[1;31mCommand: 'conda install -p f:\\GitHub\\PricePredictionML\\venv ipykernel --update-deps --force-reinstall'"
     ]
    }
   ],
   "source": [
    "# Shows total entries,datatype\n",
    "housing.info()"
   ]
  },
  {
   "cell_type": "markdown",
   "id": "9f8bcc40",
   "metadata": {},
   "source": [
    "## Check for missing/null values"
   ]
  },
  {
   "cell_type": "code",
   "execution_count": null,
   "id": "52e60b52",
   "metadata": {},
   "outputs": [
    {
     "ename": "",
     "evalue": "",
     "output_type": "error",
     "traceback": [
      "\u001b[1;31mRunning cells with 'f:\\GitHub\\PricePredictionML\\venv\\python.exe' requires the ipykernel package.\n",
      "\u001b[1;31mRun the following command to install 'ipykernel' into the Python environment. \n",
      "\u001b[1;31mCommand: 'conda install -p f:\\GitHub\\PricePredictionML\\venv ipykernel --update-deps --force-reinstall'"
     ]
    }
   ],
   "source": [
    "# shows null values in each coloumn\n",
    "housing.isnull()"
   ]
  },
  {
   "cell_type": "code",
   "execution_count": null,
   "id": "7b4549d5",
   "metadata": {
    "code_folding": []
   },
   "outputs": [
    {
     "ename": "",
     "evalue": "",
     "output_type": "error",
     "traceback": [
      "\u001b[1;31mRunning cells with 'f:\\GitHub\\PricePredictionML\\venv\\python.exe' requires the ipykernel package.\n",
      "\u001b[1;31mRun the following command to install 'ipykernel' into the Python environment. \n",
      "\u001b[1;31mCommand: 'conda install -p f:\\GitHub\\PricePredictionML\\venv ipykernel --update-deps --force-reinstall'"
     ]
    }
   ],
   "source": [
    "# shows sum of null values in each coloumn\n",
    "housing.isnull().sum()"
   ]
  },
  {
   "cell_type": "code",
   "execution_count": null,
   "id": "a2743923",
   "metadata": {},
   "outputs": [
    {
     "ename": "",
     "evalue": "",
     "output_type": "error",
     "traceback": [
      "\u001b[1;31mRunning cells with 'f:\\GitHub\\PricePredictionML\\venv\\python.exe' requires the ipykernel package.\n",
      "\u001b[1;31mRun the following command to install 'ipykernel' into the Python environment. \n",
      "\u001b[1;31mCommand: 'conda install -p f:\\GitHub\\PricePredictionML\\venv ipykernel --update-deps --force-reinstall'"
     ]
    }
   ],
   "source": [
    "# Shows total number of each value\n",
    "housing['CHAS'].value_counts()"
   ]
  },
  {
   "cell_type": "code",
   "execution_count": null,
   "id": "d2d3ae3d",
   "metadata": {},
   "outputs": [
    {
     "ename": "",
     "evalue": "",
     "output_type": "error",
     "traceback": [
      "\u001b[1;31mRunning cells with 'f:\\GitHub\\PricePredictionML\\venv\\python.exe' requires the ipykernel package.\n",
      "\u001b[1;31mRun the following command to install 'ipykernel' into the Python environment. \n",
      "\u001b[1;31mCommand: 'conda install -p f:\\GitHub\\PricePredictionML\\venv ipykernel --update-deps --force-reinstall'"
     ]
    }
   ],
   "source": [
    "# describe housing data\n",
    "housing.describe()"
   ]
  },
  {
   "cell_type": "code",
   "execution_count": null,
   "id": "5945033a",
   "metadata": {},
   "outputs": [
    {
     "ename": "",
     "evalue": "",
     "output_type": "error",
     "traceback": [
      "\u001b[1;31mRunning cells with 'f:\\GitHub\\PricePredictionML\\venv\\python.exe' requires the ipykernel package.\n",
      "\u001b[1;31mRun the following command to install 'ipykernel' into the Python environment. \n",
      "\u001b[1;31mCommand: 'conda install -p f:\\GitHub\\PricePredictionML\\venv ipykernel --update-deps --force-reinstall'"
     ]
    }
   ],
   "source": [
    "# Shows histogram for each feature (x=feature value, y=count of each value)\n",
    "housing.hist(bins=50, figsize=(20,15))"
   ]
  },
  {
   "cell_type": "code",
   "execution_count": null,
   "id": "8cf17186",
   "metadata": {},
   "outputs": [
    {
     "ename": "",
     "evalue": "",
     "output_type": "error",
     "traceback": [
      "\u001b[1;31mRunning cells with 'f:\\GitHub\\PricePredictionML\\venv\\python.exe' requires the ipykernel package.\n",
      "\u001b[1;31mRun the following command to install 'ipykernel' into the Python environment. \n",
      "\u001b[1;31mCommand: 'conda install -p f:\\GitHub\\PricePredictionML\\venv ipykernel --update-deps --force-reinstall'"
     ]
    }
   ],
   "source": []
  },
  {
   "cell_type": "markdown",
   "id": "b0b25312",
   "metadata": {},
   "source": [
    "## Looking for correlation"
   ]
  },
  {
   "cell_type": "code",
   "execution_count": null,
   "id": "2f76ca38",
   "metadata": {},
   "outputs": [
    {
     "ename": "",
     "evalue": "",
     "output_type": "error",
     "traceback": [
      "\u001b[1;31mRunning cells with 'f:\\GitHub\\PricePredictionML\\venv\\python.exe' requires the ipykernel package.\n",
      "\u001b[1;31mRun the following command to install 'ipykernel' into the Python environment. \n",
      "\u001b[1;31mCommand: 'conda install -p f:\\GitHub\\PricePredictionML\\venv ipykernel --update-deps --force-reinstall'"
     ]
    }
   ],
   "source": [
    "corr_matrix = housing.corr()"
   ]
  },
  {
   "cell_type": "code",
   "execution_count": null,
   "id": "c02c4f95",
   "metadata": {},
   "outputs": [
    {
     "ename": "",
     "evalue": "",
     "output_type": "error",
     "traceback": [
      "\u001b[1;31mRunning cells with 'f:\\GitHub\\PricePredictionML\\venv\\python.exe' requires the ipykernel package.\n",
      "\u001b[1;31mRun the following command to install 'ipykernel' into the Python environment. \n",
      "\u001b[1;31mCommand: 'conda install -p f:\\GitHub\\PricePredictionML\\venv ipykernel --update-deps --force-reinstall'"
     ]
    }
   ],
   "source": [
    "corr_matrix['MEDV'].sort_values(ascending=False)"
   ]
  },
  {
   "cell_type": "code",
   "execution_count": null,
   "id": "ec550d00",
   "metadata": {},
   "outputs": [
    {
     "ename": "",
     "evalue": "",
     "output_type": "error",
     "traceback": [
      "\u001b[1;31mRunning cells with 'f:\\GitHub\\PricePredictionML\\venv\\python.exe' requires the ipykernel package.\n",
      "\u001b[1;31mRun the following command to install 'ipykernel' into the Python environment. \n",
      "\u001b[1;31mCommand: 'conda install -p f:\\GitHub\\PricePredictionML\\venv ipykernel --update-deps --force-reinstall'"
     ]
    }
   ],
   "source": [
    "# To see scatterplot of following attributes\n",
    "from pandas.plotting import scatter_matrix\n",
    "attributes = [\"MEDV\", \"RM\", \"ZN\", \"LSTAT\"]\n",
    "scatter_matrix(housing[attributes],figsize=(12,8))"
   ]
  },
  {
   "cell_type": "code",
   "execution_count": null,
   "id": "c32bd987",
   "metadata": {},
   "outputs": [
    {
     "ename": "",
     "evalue": "",
     "output_type": "error",
     "traceback": [
      "\u001b[1;31mRunning cells with 'f:\\GitHub\\PricePredictionML\\venv\\python.exe' requires the ipykernel package.\n",
      "\u001b[1;31mRun the following command to install 'ipykernel' into the Python environment. \n",
      "\u001b[1;31mCommand: 'conda install -p f:\\GitHub\\PricePredictionML\\venv ipykernel --update-deps --force-reinstall'"
     ]
    }
   ],
   "source": [
    "# To see scatter plot of just 2 attributes\n",
    "housing.plot(kind=\"scatter\", x=\"RM\", y=\"MEDV\",alpha=0.5)"
   ]
  },
  {
   "cell_type": "code",
   "execution_count": null,
   "id": "21fe0c70",
   "metadata": {},
   "outputs": [
    {
     "ename": "",
     "evalue": "",
     "output_type": "error",
     "traceback": [
      "\u001b[1;31mRunning cells with 'f:\\GitHub\\PricePredictionML\\venv\\python.exe' requires the ipykernel package.\n",
      "\u001b[1;31mRun the following command to install 'ipykernel' into the Python environment. \n",
      "\u001b[1;31mCommand: 'conda install -p f:\\GitHub\\PricePredictionML\\venv ipykernel --update-deps --force-reinstall'"
     ]
    }
   ],
   "source": [
    "# Scatter plot with different method\n",
    "\n",
    "plt.scatter(housing['RM'],housing['MEDV'])\n",
    "plt.xlabel(\"Rooms per dwelling\")\n",
    "plt.ylabel(\"Price\")"
   ]
  },
  {
   "cell_type": "code",
   "execution_count": null,
   "id": "5d7b7cb0",
   "metadata": {},
   "outputs": [
    {
     "ename": "",
     "evalue": "",
     "output_type": "error",
     "traceback": [
      "\u001b[1;31mRunning cells with 'f:\\GitHub\\PricePredictionML\\venv\\python.exe' requires the ipykernel package.\n",
      "\u001b[1;31mRun the following command to install 'ipykernel' into the Python environment. \n",
      "\u001b[1;31mCommand: 'conda install -p f:\\GitHub\\PricePredictionML\\venv ipykernel --update-deps --force-reinstall'"
     ]
    }
   ],
   "source": [
    "# Regression plot\n",
    "import seaborn as sns\n",
    "sns.regplot(x=\"RM\",y=\"MEDV\",data=housing)"
   ]
  },
  {
   "cell_type": "markdown",
   "id": "9be71531",
   "metadata": {},
   "source": [
    "Here we can see ***positive correlation***"
   ]
  },
  {
   "cell_type": "markdown",
   "id": "2399c9d7",
   "metadata": {},
   "source": [
    "## Train-Test Splitting"
   ]
  },
  {
   "cell_type": "raw",
   "id": "3055e1c6",
   "metadata": {},
   "source": [
    "# For learning purpose-- already written function\n",
    "\n",
    "def split_train_test(data, test_ratio):\n",
    "    np.random.seed(42)\n",
    "    shuffled = np.random.permutation(len(data))\n",
    "    print(shuffled)\n",
    "    test_set_size = int(len(data) * test_ratio)\n",
    "    test_indices = shuffled[:test_set_size]\n",
    "    train_indices = shuffled[test_set_size:] \n",
    "    return data.iloc[train_indices], data.iloc[test_indices]\n",
    " \n",
    " train_set, test_set = split_train_test(housing, 0.2)\n",
    " print(f\"Rows in train set: {len(train_set)}\\nRows in test set: {len(test_set)}\\n\")"
   ]
  },
  {
   "cell_type": "code",
   "execution_count": null,
   "id": "c68fdda3",
   "metadata": {},
   "outputs": [
    {
     "ename": "",
     "evalue": "",
     "output_type": "error",
     "traceback": [
      "\u001b[1;31mRunning cells with 'f:\\GitHub\\PricePredictionML\\venv\\python.exe' requires the ipykernel package.\n",
      "\u001b[1;31mRun the following command to install 'ipykernel' into the Python environment. \n",
      "\u001b[1;31mCommand: 'conda install -p f:\\GitHub\\PricePredictionML\\venv ipykernel --update-deps --force-reinstall'"
     ]
    }
   ],
   "source": [
    "from sklearn.model_selection import train_test_split\n",
    "train_set, test_set  = train_test_split(housing, test_size=0.2, random_state=42)\n",
    "print(f\"Rows in train set: {len(train_set)}\\nRows in test set: {len(test_set)}\\n\")"
   ]
  },
  {
   "cell_type": "markdown",
   "id": "4d488f6f",
   "metadata": {},
   "source": [
    "#### We will use Stratified sampling here because *CHAS* feature has 2 values (1 OR 0)\n",
    "- It possible that *CHAS* divided fully in train set or test set\n",
    "- To divide it in equal ratio between train and test split we will use ***StratifiedShuffleSplit***"
   ]
  },
  {
   "cell_type": "code",
   "execution_count": null,
   "id": "cd4cd9a8",
   "metadata": {},
   "outputs": [
    {
     "ename": "",
     "evalue": "",
     "output_type": "error",
     "traceback": [
      "\u001b[1;31mRunning cells with 'f:\\GitHub\\PricePredictionML\\venv\\python.exe' requires the ipykernel package.\n",
      "\u001b[1;31mRun the following command to install 'ipykernel' into the Python environment. \n",
      "\u001b[1;31mCommand: 'conda install -p f:\\GitHub\\PricePredictionML\\venv ipykernel --update-deps --force-reinstall'"
     ]
    }
   ],
   "source": [
    "from sklearn.model_selection import StratifiedShuffleSplit\n",
    "split = StratifiedShuffleSplit(n_splits=1,random_state=42,test_size=0.2)\n",
    "for train_index, test_index in split.split(housing,housing['CHAS']):\n",
    "    strat_train_set = housing.loc[train_index]\n",
    "    strat_test_set = housing.loc[test_index]"
   ]
  },
  {
   "cell_type": "code",
   "execution_count": null,
   "id": "128bcff5",
   "metadata": {},
   "outputs": [
    {
     "ename": "",
     "evalue": "",
     "output_type": "error",
     "traceback": [
      "\u001b[1;31mRunning cells with 'f:\\GitHub\\PricePredictionML\\venv\\python.exe' requires the ipykernel package.\n",
      "\u001b[1;31mRun the following command to install 'ipykernel' into the Python environment. \n",
      "\u001b[1;31mCommand: 'conda install -p f:\\GitHub\\PricePredictionML\\venv ipykernel --update-deps --force-reinstall'"
     ]
    }
   ],
   "source": [
    "strat_test_set['CHAS'].value_counts()"
   ]
  },
  {
   "cell_type": "code",
   "execution_count": null,
   "id": "3d83a659",
   "metadata": {},
   "outputs": [
    {
     "ename": "",
     "evalue": "",
     "output_type": "error",
     "traceback": [
      "\u001b[1;31mRunning cells with 'f:\\GitHub\\PricePredictionML\\venv\\python.exe' requires the ipykernel package.\n",
      "\u001b[1;31mRun the following command to install 'ipykernel' into the Python environment. \n",
      "\u001b[1;31mCommand: 'conda install -p f:\\GitHub\\PricePredictionML\\venv ipykernel --update-deps --force-reinstall'"
     ]
    }
   ],
   "source": [
    "strat_train_set['CHAS'].value_counts()"
   ]
  },
  {
   "cell_type": "markdown",
   "id": "70847b1c",
   "metadata": {},
   "source": [
    "#### Here test set contains 95 -> 0 & 7 -> 1\n",
    "#### Train set contains 376 -> 0 & 28 -> 1\n",
    "\n",
    "- 95/7 = 13.571\n",
    "- 376/28 = 13.428\n",
    "\n",
    "#### Both having equal number of 1 and 0\n"
   ]
  },
  {
   "cell_type": "markdown",
   "id": "43b10b59",
   "metadata": {},
   "source": [
    "**************\n",
    "## Independant & dependant variable\n"
   ]
  },
  {
   "cell_type": "code",
   "execution_count": null,
   "id": "21722c5b",
   "metadata": {},
   "outputs": [
    {
     "ename": "",
     "evalue": "",
     "output_type": "error",
     "traceback": [
      "\u001b[1;31mRunning cells with 'f:\\GitHub\\PricePredictionML\\venv\\python.exe' requires the ipykernel package.\n",
      "\u001b[1;31mRun the following command to install 'ipykernel' into the Python environment. \n",
      "\u001b[1;31mCommand: 'conda install -p f:\\GitHub\\PricePredictionML\\venv ipykernel --update-deps --force-reinstall'"
     ]
    }
   ],
   "source": [
    "x_Strat_train=strat_train_set.iloc[:,:-1]\n",
    "y_Strat_train=strat_train_set.iloc[:,-1]"
   ]
  },
  {
   "cell_type": "code",
   "execution_count": null,
   "id": "d04da777",
   "metadata": {},
   "outputs": [
    {
     "ename": "",
     "evalue": "",
     "output_type": "error",
     "traceback": [
      "\u001b[1;31mRunning cells with 'f:\\GitHub\\PricePredictionML\\venv\\python.exe' requires the ipykernel package.\n",
      "\u001b[1;31mRun the following command to install 'ipykernel' into the Python environment. \n",
      "\u001b[1;31mCommand: 'conda install -p f:\\GitHub\\PricePredictionML\\venv ipykernel --update-deps --force-reinstall'"
     ]
    }
   ],
   "source": [
    "x_Strat_test=strat_test_set.iloc[:,:-1]\n",
    "y_Strat_test=strat_test_set.iloc[:,-1]\n"
   ]
  },
  {
   "cell_type": "code",
   "execution_count": null,
   "id": "fd23a180",
   "metadata": {},
   "outputs": [
    {
     "ename": "",
     "evalue": "",
     "output_type": "error",
     "traceback": [
      "\u001b[1;31mRunning cells with 'f:\\GitHub\\PricePredictionML\\venv\\python.exe' requires the ipykernel package.\n",
      "\u001b[1;31mRun the following command to install 'ipykernel' into the Python environment. \n",
      "\u001b[1;31mCommand: 'conda install -p f:\\GitHub\\PricePredictionML\\venv ipykernel --update-deps --force-reinstall'"
     ]
    }
   ],
   "source": [
    "x_Strat_train"
   ]
  },
  {
   "cell_type": "code",
   "execution_count": null,
   "id": "b7f408c8",
   "metadata": {},
   "outputs": [
    {
     "ename": "",
     "evalue": "",
     "output_type": "error",
     "traceback": [
      "\u001b[1;31mRunning cells with 'f:\\GitHub\\PricePredictionML\\venv\\python.exe' requires the ipykernel package.\n",
      "\u001b[1;31mRun the following command to install 'ipykernel' into the Python environment. \n",
      "\u001b[1;31mCommand: 'conda install -p f:\\GitHub\\PricePredictionML\\venv ipykernel --update-deps --force-reinstall'"
     ]
    }
   ],
   "source": [
    "y_Strat_train"
   ]
  },
  {
   "cell_type": "code",
   "execution_count": null,
   "id": "95337b38",
   "metadata": {},
   "outputs": [
    {
     "ename": "",
     "evalue": "",
     "output_type": "error",
     "traceback": [
      "\u001b[1;31mRunning cells with 'f:\\GitHub\\PricePredictionML\\venv\\python.exe' requires the ipykernel package.\n",
      "\u001b[1;31mRun the following command to install 'ipykernel' into the Python environment. \n",
      "\u001b[1;31mCommand: 'conda install -p f:\\GitHub\\PricePredictionML\\venv ipykernel --update-deps --force-reinstall'"
     ]
    }
   ],
   "source": [
    " x_Strat_test"
   ]
  },
  {
   "cell_type": "code",
   "execution_count": null,
   "id": "79af1a3d",
   "metadata": {},
   "outputs": [
    {
     "ename": "",
     "evalue": "",
     "output_type": "error",
     "traceback": [
      "\u001b[1;31mRunning cells with 'f:\\GitHub\\PricePredictionML\\venv\\python.exe' requires the ipykernel package.\n",
      "\u001b[1;31mRun the following command to install 'ipykernel' into the Python environment. \n",
      "\u001b[1;31mCommand: 'conda install -p f:\\GitHub\\PricePredictionML\\venv ipykernel --update-deps --force-reinstall'"
     ]
    }
   ],
   "source": [
    "y_Strat_test"
   ]
  },
  {
   "cell_type": "markdown",
   "id": "446eb258",
   "metadata": {},
   "source": [
    "## Standardize the dataset"
   ]
  },
  {
   "cell_type": "code",
   "execution_count": null,
   "id": "93fc0d3d",
   "metadata": {},
   "outputs": [
    {
     "ename": "",
     "evalue": "",
     "output_type": "error",
     "traceback": [
      "\u001b[1;31mRunning cells with 'f:\\GitHub\\PricePredictionML\\venv\\python.exe' requires the ipykernel package.\n",
      "\u001b[1;31mRun the following command to install 'ipykernel' into the Python environment. \n",
      "\u001b[1;31mCommand: 'conda install -p f:\\GitHub\\PricePredictionML\\venv ipykernel --update-deps --force-reinstall'"
     ]
    }
   ],
   "source": [
    "from sklearn.preprocessing import StandardScaler\n",
    "scaler=StandardScaler()"
   ]
  },
  {
   "cell_type": "code",
   "execution_count": null,
   "id": "a9b8dccf",
   "metadata": {},
   "outputs": [
    {
     "ename": "",
     "evalue": "",
     "output_type": "error",
     "traceback": [
      "\u001b[1;31mRunning cells with 'f:\\GitHub\\PricePredictionML\\venv\\python.exe' requires the ipykernel package.\n",
      "\u001b[1;31mRun the following command to install 'ipykernel' into the Python environment. \n",
      "\u001b[1;31mCommand: 'conda install -p f:\\GitHub\\PricePredictionML\\venv ipykernel --update-deps --force-reinstall'"
     ]
    }
   ],
   "source": [
    "x_Strat_train=scaler.fit_transform(x_Strat_train)\n",
    "x_Strat_test=scaler.fit_transform(x_Strat_test)"
   ]
  },
  {
   "cell_type": "code",
   "execution_count": null,
   "id": "ffd6fb5c",
   "metadata": {},
   "outputs": [
    {
     "ename": "",
     "evalue": "",
     "output_type": "error",
     "traceback": [
      "\u001b[1;31mRunning cells with 'f:\\GitHub\\PricePredictionML\\venv\\python.exe' requires the ipykernel package.\n",
      "\u001b[1;31mRun the following command to install 'ipykernel' into the Python environment. \n",
      "\u001b[1;31mCommand: 'conda install -p f:\\GitHub\\PricePredictionML\\venv ipykernel --update-deps --force-reinstall'"
     ]
    }
   ],
   "source": [
    "import pickle\n",
    "pickle.dump(scaler,open('scaling.pkl','wb'))"
   ]
  },
  {
   "cell_type": "code",
   "execution_count": null,
   "id": "cb1ac79e",
   "metadata": {},
   "outputs": [
    {
     "ename": "",
     "evalue": "",
     "output_type": "error",
     "traceback": [
      "\u001b[1;31mRunning cells with 'f:\\GitHub\\PricePredictionML\\venv\\python.exe' requires the ipykernel package.\n",
      "\u001b[1;31mRun the following command to install 'ipykernel' into the Python environment. \n",
      "\u001b[1;31mCommand: 'conda install -p f:\\GitHub\\PricePredictionML\\venv ipykernel --update-deps --force-reinstall'"
     ]
    }
   ],
   "source": [
    "x_Strat_test"
   ]
  },
  {
   "cell_type": "code",
   "execution_count": 31,
   "id": "ab85ca5c",
   "metadata": {},
   "outputs": [
    {
     "data": {
      "text/plain": [
       "array([[-0.43942006,  3.12628155, -1.12165014, ..., -0.97491834,\n",
       "         0.41164221, -0.86091034],\n",
       "       [-0.44352175,  3.12628155, -1.35893781, ..., -0.69277865,\n",
       "         0.39131918, -0.94116739],\n",
       "       [ 0.15682292, -0.4898311 ,  0.98336806, ...,  0.81196637,\n",
       "         0.44624347,  0.81480158],\n",
       "       ...,\n",
       "       [-0.43525657, -0.4898311 , -1.23083158, ..., -0.22254583,\n",
       "         0.41831233, -1.27603303],\n",
       "       [ 0.14210728, -0.4898311 ,  0.98336806, ...,  0.81196637,\n",
       "        -3.15239177,  0.73869575],\n",
       "       [-0.43974024, -0.4898311 ,  0.37049623, ..., -0.97491834,\n",
       "         0.41070422,  0.09940681]])"
      ]
     },
     "execution_count": 31,
     "metadata": {},
     "output_type": "execute_result"
    }
   ],
   "source": [
    "x_Strat_train"
   ]
  },
  {
   "cell_type": "markdown",
   "id": "4b0b9302",
   "metadata": {},
   "source": [
    "## Model Training"
   ]
  },
  {
   "cell_type": "code",
   "execution_count": 32,
   "id": "b9139c59",
   "metadata": {},
   "outputs": [],
   "source": [
    "from sklearn.linear_model import LinearRegression\n"
   ]
  },
  {
   "cell_type": "code",
   "execution_count": 33,
   "id": "7ef16822",
   "metadata": {},
   "outputs": [],
   "source": [
    "regression=LinearRegression()"
   ]
  },
  {
   "cell_type": "code",
   "execution_count": 34,
   "id": "42ccc7bf",
   "metadata": {},
   "outputs": [
    {
     "data": {
      "text/html": [
       "<style>#sk-container-id-1 {color: black;background-color: white;}#sk-container-id-1 pre{padding: 0;}#sk-container-id-1 div.sk-toggleable {background-color: white;}#sk-container-id-1 label.sk-toggleable__label {cursor: pointer;display: block;width: 100%;margin-bottom: 0;padding: 0.3em;box-sizing: border-box;text-align: center;}#sk-container-id-1 label.sk-toggleable__label-arrow:before {content: \"▸\";float: left;margin-right: 0.25em;color: #696969;}#sk-container-id-1 label.sk-toggleable__label-arrow:hover:before {color: black;}#sk-container-id-1 div.sk-estimator:hover label.sk-toggleable__label-arrow:before {color: black;}#sk-container-id-1 div.sk-toggleable__content {max-height: 0;max-width: 0;overflow: hidden;text-align: left;background-color: #f0f8ff;}#sk-container-id-1 div.sk-toggleable__content pre {margin: 0.2em;color: black;border-radius: 0.25em;background-color: #f0f8ff;}#sk-container-id-1 input.sk-toggleable__control:checked~div.sk-toggleable__content {max-height: 200px;max-width: 100%;overflow: auto;}#sk-container-id-1 input.sk-toggleable__control:checked~label.sk-toggleable__label-arrow:before {content: \"▾\";}#sk-container-id-1 div.sk-estimator input.sk-toggleable__control:checked~label.sk-toggleable__label {background-color: #d4ebff;}#sk-container-id-1 div.sk-label input.sk-toggleable__control:checked~label.sk-toggleable__label {background-color: #d4ebff;}#sk-container-id-1 input.sk-hidden--visually {border: 0;clip: rect(1px 1px 1px 1px);clip: rect(1px, 1px, 1px, 1px);height: 1px;margin: -1px;overflow: hidden;padding: 0;position: absolute;width: 1px;}#sk-container-id-1 div.sk-estimator {font-family: monospace;background-color: #f0f8ff;border: 1px dotted black;border-radius: 0.25em;box-sizing: border-box;margin-bottom: 0.5em;}#sk-container-id-1 div.sk-estimator:hover {background-color: #d4ebff;}#sk-container-id-1 div.sk-parallel-item::after {content: \"\";width: 100%;border-bottom: 1px solid gray;flex-grow: 1;}#sk-container-id-1 div.sk-label:hover label.sk-toggleable__label {background-color: #d4ebff;}#sk-container-id-1 div.sk-serial::before {content: \"\";position: absolute;border-left: 1px solid gray;box-sizing: border-box;top: 0;bottom: 0;left: 50%;z-index: 0;}#sk-container-id-1 div.sk-serial {display: flex;flex-direction: column;align-items: center;background-color: white;padding-right: 0.2em;padding-left: 0.2em;position: relative;}#sk-container-id-1 div.sk-item {position: relative;z-index: 1;}#sk-container-id-1 div.sk-parallel {display: flex;align-items: stretch;justify-content: center;background-color: white;position: relative;}#sk-container-id-1 div.sk-item::before, #sk-container-id-1 div.sk-parallel-item::before {content: \"\";position: absolute;border-left: 1px solid gray;box-sizing: border-box;top: 0;bottom: 0;left: 50%;z-index: -1;}#sk-container-id-1 div.sk-parallel-item {display: flex;flex-direction: column;z-index: 1;position: relative;background-color: white;}#sk-container-id-1 div.sk-parallel-item:first-child::after {align-self: flex-end;width: 50%;}#sk-container-id-1 div.sk-parallel-item:last-child::after {align-self: flex-start;width: 50%;}#sk-container-id-1 div.sk-parallel-item:only-child::after {width: 0;}#sk-container-id-1 div.sk-dashed-wrapped {border: 1px dashed gray;margin: 0 0.4em 0.5em 0.4em;box-sizing: border-box;padding-bottom: 0.4em;background-color: white;}#sk-container-id-1 div.sk-label label {font-family: monospace;font-weight: bold;display: inline-block;line-height: 1.2em;}#sk-container-id-1 div.sk-label-container {text-align: center;}#sk-container-id-1 div.sk-container {/* jupyter's `normalize.less` sets `[hidden] { display: none; }` but bootstrap.min.css set `[hidden] { display: none !important; }` so we also need the `!important` here to be able to override the default hidden behavior on the sphinx rendered scikit-learn.org. See: https://github.com/scikit-learn/scikit-learn/issues/21755 */display: inline-block !important;position: relative;}#sk-container-id-1 div.sk-text-repr-fallback {display: none;}</style><div id=\"sk-container-id-1\" class=\"sk-top-container\"><div class=\"sk-text-repr-fallback\"><pre>LinearRegression()</pre><b>In a Jupyter environment, please rerun this cell to show the HTML representation or trust the notebook. <br />On GitHub, the HTML representation is unable to render, please try loading this page with nbviewer.org.</b></div><div class=\"sk-container\" hidden><div class=\"sk-item\"><div class=\"sk-estimator sk-toggleable\"><input class=\"sk-toggleable__control sk-hidden--visually\" id=\"sk-estimator-id-1\" type=\"checkbox\" checked><label for=\"sk-estimator-id-1\" class=\"sk-toggleable__label sk-toggleable__label-arrow\">LinearRegression</label><div class=\"sk-toggleable__content\"><pre>LinearRegression()</pre></div></div></div></div></div>"
      ],
      "text/plain": [
       "LinearRegression()"
      ]
     },
     "execution_count": 34,
     "metadata": {},
     "output_type": "execute_result"
    }
   ],
   "source": [
    "regression.fit(x_Strat_train,y_Strat_train)"
   ]
  },
  {
   "cell_type": "code",
   "execution_count": 35,
   "id": "0c61602e",
   "metadata": {},
   "outputs": [
    {
     "name": "stdout",
     "output_type": "stream",
     "text": [
      "[-0.53859116  0.82011884  0.24916678  0.84013464 -2.15381579  2.69919117\n",
      "  0.24483568 -2.91024203  2.42317778 -1.84376829 -2.12904379  1.02858558\n",
      " -4.08798371]\n"
     ]
    }
   ],
   "source": [
    "# print coefficient and intercept\n",
    "print(regression.coef_)"
   ]
  },
  {
   "cell_type": "code",
   "execution_count": 36,
   "id": "284389d0",
   "metadata": {},
   "outputs": [
    {
     "name": "stdout",
     "output_type": "stream",
     "text": [
      "22.509405940594053\n"
     ]
    }
   ],
   "source": [
    "print(regression.intercept_)"
   ]
  },
  {
   "cell_type": "code",
   "execution_count": 37,
   "id": "f9238565",
   "metadata": {},
   "outputs": [
    {
     "data": {
      "text/plain": [
       "{'copy_X': True, 'fit_intercept': True, 'n_jobs': None, 'positive': False}"
      ]
     },
     "execution_count": 37,
     "metadata": {},
     "output_type": "execute_result"
    }
   ],
   "source": [
    "# On which parameter model is trained\n",
    "regression.get_params()"
   ]
  },
  {
   "cell_type": "markdown",
   "id": "890d17c6",
   "metadata": {},
   "source": [
    "## prediction with test data"
   ]
  },
  {
   "cell_type": "code",
   "execution_count": 38,
   "id": "f207df91",
   "metadata": {},
   "outputs": [],
   "source": [
    "reg_pred=regression.predict(x_Strat_test)"
   ]
  },
  {
   "cell_type": "code",
   "execution_count": 39,
   "id": "a3982932",
   "metadata": {},
   "outputs": [
    {
     "data": {
      "text/plain": [
       "array([22.15707616, 16.51725558, 29.71829681, 30.10157589,  7.31982707,\n",
       "       11.88846333, 16.43810958, 17.04347445, 31.28774837, 36.08567652,\n",
       "       15.3730946 , -1.43791019, 22.55488703, 19.60958685, 19.63579223,\n",
       "       11.74805306, 30.28385516, 12.01002514, 24.85757544, 23.1461238 ,\n",
       "       19.97739803, 16.25146515, 18.57692429, 24.90929363, 17.77530352,\n",
       "       32.44127617, 18.64714498, 33.45792099,  6.62626691, 33.77133899,\n",
       "       18.2758186 , 20.96048739, 28.78686826, 15.71217758, 25.6921465 ,\n",
       "       17.70752991, 36.61745844, 24.23164791, 22.10182813, 36.59390949,\n",
       "       24.74656838, 33.59319576, 22.87024264, 23.38025201, 17.80666894,\n",
       "       32.32734614, 38.86081192, 21.03230612, 16.67857581, 15.66893464,\n",
       "       20.55493804, 11.36934489, 18.97310792, 19.59831857, 27.58868303,\n",
       "       33.10838704, 40.51820619, 30.63676651, 13.96121654, 19.44654158,\n",
       "       40.03017967, 17.44703868, 14.45994528, 27.1488364 , 18.82692423,\n",
       "       32.57296028, 21.62579034, 19.74218782, 19.74953919, 33.47163747,\n",
       "       33.20795233, 27.23557859, 23.77068474, 21.25039189, 35.40232747,\n",
       "        7.02423401, 15.32738587, 20.37054968, 20.27129277, 22.69975014,\n",
       "       25.60499802, 22.21755355, 11.68261535, 25.08579416, 20.37888983,\n",
       "       23.5708532 , 19.04716049, 21.26083722, 22.11868301, 21.35441955,\n",
       "       17.24546062, 28.20619542,  6.42484512, 28.09286347, 17.80586717,\n",
       "       30.10028757, 19.77244749, 31.04709179, 11.44849004, 27.39075815,\n",
       "       21.71860073, 24.57630269])"
      ]
     },
     "execution_count": 39,
     "metadata": {},
     "output_type": "execute_result"
    }
   ],
   "source": [
    "reg_pred"
   ]
  },
  {
   "cell_type": "code",
   "execution_count": 40,
   "id": "132f7f23",
   "metadata": {},
   "outputs": [
    {
     "data": {
      "text/plain": [
       "<matplotlib.collections.PathCollection at 0x2609d0ed100>"
      ]
     },
     "execution_count": 40,
     "metadata": {},
     "output_type": "execute_result"
    },
    {
     "data": {
      "image/png": "[encoded data removed]",
      "text/plain": [
       "<Figure size 432x288 with 1 Axes>"
      ]
     },
     "metadata": {
      "needs_background": "light"
     },
     "output_type": "display_data"
    }
   ],
   "source": [
    "# Plot a scatter plot for prediction\n",
    "plt.scatter(reg_pred,y_Strat_test)"
   ]
  },
  {
   "cell_type": "code",
   "execution_count": 41,
   "id": "26f57b91",
   "metadata": {},
   "outputs": [],
   "source": [
    "residuals = y_Strat_test-reg_pred"
   ]
  },
  {
   "cell_type": "code",
   "execution_count": 42,
   "id": "fc58e620",
   "metadata": {},
   "outputs": [
    {
     "data": {
      "text/plain": [
       "342   -5.657076\n",
       "379   -6.317256\n",
       "223    0.381703\n",
       "219   -7.101576\n",
       "48     7.080173\n",
       "         ...   \n",
       "88    -7.447092\n",
       "466    7.551510\n",
       "52    -2.390758\n",
       "121   -1.418601\n",
       "218   -3.076303\n",
       "Name: MEDV, Length: 102, dtype: float64"
      ]
     },
     "execution_count": 42,
     "metadata": {},
     "output_type": "execute_result"
    }
   ],
   "source": [
    "residuals"
   ]
  },
  {
   "cell_type": "code",
   "execution_count": 43,
   "id": "e8c000ac",
   "metadata": {},
   "outputs": [
    {
     "data": {
      "text/plain": [
       "<seaborn.axisgrid.FacetGrid at 0x2609d12fb20>"
      ]
     },
     "execution_count": 43,
     "metadata": {},
     "output_type": "execute_result"
    },
    {
     "data": {
      "image/png": "[encoded data removed]",
      "text/plain": [
       "<Figure size 360x360 with 1 Axes>"
      ]
     },
     "metadata": {
      "needs_background": "light"
     },
     "output_type": "display_data"
    }
   ],
   "source": [
    "## plot this residuels\n",
    "\n",
    "sns.displot(residuals,kind=\"kde\")"
   ]
  },
  {
   "cell_type": "code",
   "execution_count": 44,
   "id": "fe11c4a0",
   "metadata": {},
   "outputs": [
    {
     "data": {
      "text/plain": [
       "<matplotlib.collections.PathCollection at 0x2609d20a940>"
      ]
     },
     "execution_count": 44,
     "metadata": {},
     "output_type": "execute_result"
    },
    {
     "data": {
      "image/png": "[encoded data removed]",
      "text/plain": [
       "<Figure size 432x288 with 1 Axes>"
      ]
     },
     "metadata": {
      "needs_background": "light"
     },
     "output_type": "display_data"
    }
   ],
   "source": [
    "# scatterplot with respect to residuels and predicted value\n",
    "plt.scatter(reg_pred,residuals)"
   ]
  },
  {
   "cell_type": "markdown",
   "id": "8ad228fd",
   "metadata": {},
   "source": [
    "points you can see are scattered uniformly\n",
    "the model is performing well"
   ]
  },
  {
   "cell_type": "code",
   "execution_count": 45,
   "id": "3f06c8b3",
   "metadata": {},
   "outputs": [],
   "source": [
    "from sklearn.metrics import mean_squared_error\n",
    "from sklearn.metrics import mean_absolute_error\n"
   ]
  },
  {
   "cell_type": "code",
   "execution_count": 46,
   "id": "899a41bb",
   "metadata": {},
   "outputs": [
    {
     "name": "stdout",
     "output_type": "stream",
     "text": [
      "Mean absolute error :-  3.0906811264180143\n",
      "Mean squared error :-  17.878011421887106\n",
      "Root mean square :-  4.22823975454173\n"
     ]
    }
   ],
   "source": [
    "print(\"Mean absolute error :- \",mean_absolute_error(y_Strat_test,reg_pred))\n",
    "print(\"Mean squared error :- \",mean_squared_error(y_Strat_test,reg_pred))\n",
    "print(\"Root mean square :- \",np.sqrt(mean_squared_error(y_Strat_test,reg_pred)))"
   ]
  },
  {
   "cell_type": "markdown",
   "id": "7d732350",
   "metadata": {},
   "source": [
    "## R square and adjusted R square"
   ]
  },
  {
   "cell_type": "raw",
   "id": "0c3bc8f1",
   "metadata": {},
   "source": [
    "Formula\n",
    "\n",
    "R^2=1-SSR/SST\n",
    "\n",
    "R^2 = coefficient of determination SSR = sum of squares of residuals SST = total sum of squares"
   ]
  },
  {
   "cell_type": "code",
   "execution_count": 47,
   "id": "46d54879",
   "metadata": {},
   "outputs": [
    {
     "name": "stdout",
     "output_type": "stream",
     "text": [
      "0.7472776224570559\n"
     ]
    }
   ],
   "source": [
    "from sklearn.metrics import r2_score\n",
    "score=r2_score(y_Strat_test,reg_pred)\n",
    "print(score)"
   ]
  },
  {
   "cell_type": "raw",
   "id": "9597a4b5",
   "metadata": {},
   "source": [
    "Adjusted R2 = 1-[(1-R2)* (n-1)/(n-k-1)]\n",
    "\n",
    "where:\n",
    "\n",
    "R2: The R2 of the model n: The number of observations k: The number of predictor variables"
   ]
  },
  {
   "cell_type": "code",
   "execution_count": 48,
   "id": "5f61d4c1",
   "metadata": {},
   "outputs": [
    {
     "data": {
      "text/plain": [
       "0.7099436348654846"
      ]
     },
     "execution_count": 48,
     "metadata": {},
     "output_type": "execute_result"
    }
   ],
   "source": [
    "# dispaly adjusted R square\n",
    "1-(1-score)*(len(y_Strat_test)-1)/(len(y_Strat_test)-x_Strat_test.shape[1]-1)"
   ]
  },
  {
   "cell_type": "markdown",
   "id": "76deb583",
   "metadata": {},
   "source": [
    "## New Data Prediction"
   ]
  },
  {
   "cell_type": "code",
   "execution_count": 49,
   "id": "9afb886b",
   "metadata": {},
   "outputs": [
    {
     "data": {
      "text/plain": [
       "array([[6.320e-03, 1.800e+01, 2.310e+00, 0.000e+00, 5.380e-01, 6.575e+00,\n",
       "        6.520e+01, 4.090e+00, 1.000e+00, 2.960e+02, 1.530e+01, 3.969e+02,\n",
       "        4.980e+00]])"
      ]
     },
     "execution_count": 49,
     "metadata": {},
     "output_type": "execute_result"
    }
   ],
   "source": [
    "hp= housing.iloc[:, :-1]\n",
    "hp.values[0].reshape(1,-1)"
   ]
  },
  {
   "cell_type": "code",
   "execution_count": 50,
   "id": "e5343c88",
   "metadata": {},
   "outputs": [
    {
     "name": "stderr",
     "output_type": "stream",
     "text": [
      "C:\\Users\\User\\AppData\\Local\\Programs\\Python\\Python39\\lib\\site-packages\\sklearn\\base.py:420: UserWarning: X does not have valid feature names, but StandardScaler was fitted with feature names\n",
      "  warnings.warn(\n"
     ]
    },
    {
     "data": {
      "text/plain": [
       "array([[-0.3526254 ,  0.16621619, -1.18940818, -0.27144836, -0.03024773,\n",
       "         0.41174978, -0.05548377,  0.04787883, -0.91150503, -0.57468946,\n",
       "        -1.34187006,  0.40196786, -1.05921335]])"
      ]
     },
     "execution_count": 50,
     "metadata": {},
     "output_type": "execute_result"
    }
   ],
   "source": [
    "# Standardize the dataset\n",
    "scaler.transform(hp.values[0].reshape(1,-1))"
   ]
  },
  {
   "cell_type": "code",
   "execution_count": 51,
   "id": "e73d10a6",
   "metadata": {},
   "outputs": [
    {
     "name": "stderr",
     "output_type": "stream",
     "text": [
      "C:\\Users\\User\\AppData\\Local\\Programs\\Python\\Python39\\lib\\site-packages\\sklearn\\base.py:420: UserWarning: X does not have valid feature names, but StandardScaler was fitted with feature names\n",
      "  warnings.warn(\n"
     ]
    },
    {
     "data": {
      "text/plain": [
       "array([29.7861066])"
      ]
     },
     "execution_count": 51,
     "metadata": {},
     "output_type": "execute_result"
    }
   ],
   "source": [
    "regression.predict(scaler.transform(hp.values[0].reshape(1,-1)))"
   ]
  },
  {
   "cell_type": "markdown",
   "id": "d211cc70",
   "metadata": {},
   "source": [
    "## Pickling the model file for deployment"
   ]
  },
  {
   "cell_type": "code",
   "execution_count": 52,
   "id": "ffa373a7",
   "metadata": {},
   "outputs": [],
   "source": [
    "import pickle"
   ]
  },
  {
   "cell_type": "code",
   "execution_count": 55,
   "id": "f91adde3",
   "metadata": {},
   "outputs": [],
   "source": [
    "pickle.dump(regression,open('regmodel.pkl','wb')) #wb = writebyte"
   ]
  },
  {
   "cell_type": "code",
   "execution_count": 57,
   "id": "e2b0632f",
   "metadata": {},
   "outputs": [],
   "source": [
    "pickle_model = pickle.load(open('regmodel.pkl','rb'))"
   ]
  },
  {
   "cell_type": "code",
   "execution_count": 58,
   "id": "d7f92ffd",
   "metadata": {},
   "outputs": [
    {
     "name": "stderr",
     "output_type": "stream",
     "text": [
      "C:\\Users\\User\\AppData\\Local\\Programs\\Python\\Python39\\lib\\site-packages\\sklearn\\base.py:420: UserWarning: X does not have valid feature names, but StandardScaler was fitted with feature names\n",
      "  warnings.warn(\n"
     ]
    },
    {
     "data": {
      "text/plain": [
       "array([29.7861066])"
      ]
     },
     "execution_count": 58,
     "metadata": {},
     "output_type": "execute_result"
    }
   ],
   "source": [
    "pickle_model.predict(scaler.transform(hp.values[0].reshape(1,-1)))"
   ]
  }
 ],
 "metadata": {
  "kernelspec": {
   "display_name": "Python 3",
   "language": "python",
   "name": "python3"
  },
  "language_info": {
   "codemirror_mode": {
    "name": "ipython",
    "version": 3
   },
   "file_extension": ".py",
   "mimetype": "text/x-python",
   "name": "python",
   "nbconvert_exporter": "python",
   "pygments_lexer": "ipython3",
   "version": "3.7.0"
  },
  "vscode": {
   "interpreter": {
    "hash": "37195e29e9074591a7e160487e770cd6497f0ce89b74bf8c97868ccdaeac6eff"
   }
  }
 },
 "nbformat": 4,
 "nbformat_minor": 5
}
